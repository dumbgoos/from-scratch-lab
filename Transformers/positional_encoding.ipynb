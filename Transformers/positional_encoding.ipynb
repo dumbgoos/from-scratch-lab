{
 "cells": [
  {
   "cell_type": "code",
   "execution_count": null,
   "id": "b11881c6",
   "metadata": {},
   "outputs": [],
   "source": [
    "# 1. Absolute Positional Encoding\n",
    "\n",
    "# The sinusoidal positional encoding method works as follows:\n",
    "# It generates a unique vector for each position in the sequence, using a combination of sine and cosine functions.\n",
    "# The encoding vector has the same dimensionality as the token embeddings\n",
    "# Different dim in the encoding vector correspond to sinusoids of different frequencies\n",
    "\n",
    "import numpy as np\n",
    "import matplotlib.pyplot as plt\n",
    "\n",
    "def sinusoidal_positional_encoding(max_position, d_model):\n",
    "    position = np.arange(max_position)[:, np.newaxis]\n",
    "    div_term = np.exp(np.arange(0, d_model, 2) * -(np.log(10000.0) / d_model))\n",
    "\n",
    "    pe = np.zeros((max_position, d_model))\n",
    "    pe[:, 0::2] = np.sin(position * div_term)\n",
    "    pe[:, 1::2] = np.cos(position * div_term)\n",
    "\n",
    "    return pe"
   ]
  }
 ],
 "metadata": {
  "kernelspec": {
   "display_name": "from-scratch-lab",
   "language": "python",
   "name": "python3"
  },
  "language_info": {
   "name": "python",
   "version": "3.11.11"
  }
 },
 "nbformat": 4,
 "nbformat_minor": 5
}
